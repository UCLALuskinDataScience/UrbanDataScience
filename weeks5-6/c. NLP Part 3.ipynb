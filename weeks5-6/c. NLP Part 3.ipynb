{
 "cells": [
  {
   "cell_type": "markdown",
   "id": "7853aaf0",
   "metadata": {},
   "source": [
    "# Weeks 5 and 6. Natural language processing"
   ]
  },
  {
   "cell_type": "markdown",
   "id": "2a9e9f6b",
   "metadata": {},
   "source": [
    "## Part 3. Sentiment analysis\n",
    "In this notebook, you'll learn to:\n",
    "* Scrape Twitter data using the API\n",
    "* Conduct sentiment analysis of text data"
   ]
  },
  {
   "cell_type": "markdown",
   "id": "3505057a",
   "metadata": {},
   "source": [
    "We reviewed topic modeling in a previous notebook. Here, we'll focus on another common Natural Language Processing tool: sentiment analysis. In short, sentiment analysis tries to understand whether a snippet of text (e.g. a tweet, a review, or a sentence from an article) is positive, negative, or neutral.\n",
    "\n",
    "In its simplest form, sentiment analysis works through applying a corpus of words and phrases that indicate sentiment. [SentiWordNet](https://github.com/aesuli/SentiWordNet) is a commonly used corpus—[look at the list here](https://raw.githubusercontent.com/aesuli/SentiWordNet/master/data/SentiWordNet_3.0.0.txt). For example, \"worst,\" \"terrible,\" and \"apprehensive\" have negative scores, while \"feel_like_a_million_dollars\" has a positive score. Some words have both positive and negative scores. Some algorithms consider the part of speech in which the word occurs (e.g. is it an adjective or noun).\n",
    "\n",
    "`nltk` has a lot of advanced sentiment analysis functionality. For simpler cases, however, I find the `textblob` library to be easier to use. You'll also need to install the `tweepy` library to get access to the Twitter data: \n",
    "\n",
    "`conda install tweepy textblob -c conda-forge`. \n",
    "\n",
    "If you want to access the data yourself, also [sign up for a Twitter developer account](https://developer.twitter.com/en/docs/developer-portal/overview), which will give you an API key."
   ]
  },
  {
   "cell_type": "code",
   "execution_count": 1,
   "id": "3c440448",
   "metadata": {},
   "outputs": [],
   "source": [
    "%config Completer.use_jedi = False  # enable tab autocomplete\n",
    "\n",
    "import tweepy\n",
    "\n",
    "# log in via codes provided by Twitter\n",
    "api_key = ''\n",
    "api_secret = ''\n",
    "\n",
    "access_token = ''\n",
    "access_token_secret = ''"
   ]
  },
  {
   "cell_type": "code",
   "execution_count": 65,
   "id": "4f0452b3",
   "metadata": {},
   "outputs": [],
   "source": [
    "# this is for authentication by using OAuthHandler and set_access_token method\n",
    "# from tweepy with a bunch of codes hidden to us\n",
    "auth = tweepy.OAuthHandler(api_key, api_secret)\n",
    "auth.set_access_token(access_token, access_token_secret)\n",
    "\n",
    "# create the api object where we'll do all the twitter magic\n",
    "api = tweepy.API(auth)"
   ]
  },
  {
   "cell_type": "code",
   "execution_count": 66,
   "id": "4d014aba",
   "metadata": {},
   "outputs": [],
   "source": [
    "# .search method will retrieve a bunch of tweets with the designated word (public transit)\n",
    "# and (optionally) that are geocoded to a place\n",
    "# this is adapted from the examples on the tweepy docs\n",
    "public_tweets_LA = api.search('public transit', geocode='34.052235,-118.243683,10km',lang='en', \n",
    "                              Since='2020-03-15', tweet_mode='extended', count=5)"
   ]
  },
  {
   "cell_type": "markdown",
   "id": "60b15faa",
   "metadata": {},
   "source": [
    "Let's explore the `public_tweets_LA` object that we created. It looks like we can iterate over it. "
   ]
  },
  {
   "cell_type": "code",
   "execution_count": 67,
   "id": "c6b990af",
   "metadata": {},
   "outputs": [
    {
     "name": "stdout",
     "output_type": "stream",
     "text": [
      "Help on SearchResults in module tweepy.models object:\n",
      "\n",
      "class SearchResults(ResultSet)\n",
      " |  SearchResults(max_id=None, since_id=None)\n",
      " |  \n",
      " |  A list like object that holds results from a Twitter API query.\n",
      " |  \n",
      " |  Method resolution order:\n",
      " |      SearchResults\n",
      " |      ResultSet\n",
      " |      builtins.list\n",
      " |      builtins.object\n",
      " |  \n",
      " |  Class methods defined here:\n",
      " |  \n",
      " |  parse(api, json) from builtins.type\n",
      " |  \n",
      " |  ----------------------------------------------------------------------\n",
      " |  Methods inherited from ResultSet:\n",
      " |  \n",
      " |  __init__(self, max_id=None, since_id=None)\n",
      " |      Initialize self.  See help(type(self)) for accurate signature.\n",
      " |  \n",
      " |  ids(self)\n",
      " |  \n",
      " |  ----------------------------------------------------------------------\n",
      " |  Readonly properties inherited from ResultSet:\n",
      " |  \n",
      " |  max_id\n",
      " |  \n",
      " |  since_id\n",
      " |  \n",
      " |  ----------------------------------------------------------------------\n",
      " |  Data descriptors inherited from ResultSet:\n",
      " |  \n",
      " |  __dict__\n",
      " |      dictionary for instance variables (if defined)\n",
      " |  \n",
      " |  __weakref__\n",
      " |      list of weak references to the object (if defined)\n",
      " |  \n",
      " |  ----------------------------------------------------------------------\n",
      " |  Methods inherited from builtins.list:\n",
      " |  \n",
      " |  __add__(self, value, /)\n",
      " |      Return self+value.\n",
      " |  \n",
      " |  __contains__(self, key, /)\n",
      " |      Return key in self.\n",
      " |  \n",
      " |  __delitem__(self, key, /)\n",
      " |      Delete self[key].\n",
      " |  \n",
      " |  __eq__(self, value, /)\n",
      " |      Return self==value.\n",
      " |  \n",
      " |  __ge__(self, value, /)\n",
      " |      Return self>=value.\n",
      " |  \n",
      " |  __getattribute__(self, name, /)\n",
      " |      Return getattr(self, name).\n",
      " |  \n",
      " |  __getitem__(...)\n",
      " |      x.__getitem__(y) <==> x[y]\n",
      " |  \n",
      " |  __gt__(self, value, /)\n",
      " |      Return self>value.\n",
      " |  \n",
      " |  __iadd__(self, value, /)\n",
      " |      Implement self+=value.\n",
      " |  \n",
      " |  __imul__(self, value, /)\n",
      " |      Implement self*=value.\n",
      " |  \n",
      " |  __iter__(self, /)\n",
      " |      Implement iter(self).\n",
      " |  \n",
      " |  __le__(self, value, /)\n",
      " |      Return self<=value.\n",
      " |  \n",
      " |  __len__(self, /)\n",
      " |      Return len(self).\n",
      " |  \n",
      " |  __lt__(self, value, /)\n",
      " |      Return self<value.\n",
      " |  \n",
      " |  __mul__(self, value, /)\n",
      " |      Return self*value.\n",
      " |  \n",
      " |  __ne__(self, value, /)\n",
      " |      Return self!=value.\n",
      " |  \n",
      " |  __repr__(self, /)\n",
      " |      Return repr(self).\n",
      " |  \n",
      " |  __reversed__(self, /)\n",
      " |      Return a reverse iterator over the list.\n",
      " |  \n",
      " |  __rmul__(self, value, /)\n",
      " |      Return value*self.\n",
      " |  \n",
      " |  __setitem__(self, key, value, /)\n",
      " |      Set self[key] to value.\n",
      " |  \n",
      " |  __sizeof__(self, /)\n",
      " |      Return the size of the list in memory, in bytes.\n",
      " |  \n",
      " |  append(self, object, /)\n",
      " |      Append object to the end of the list.\n",
      " |  \n",
      " |  clear(self, /)\n",
      " |      Remove all items from list.\n",
      " |  \n",
      " |  copy(self, /)\n",
      " |      Return a shallow copy of the list.\n",
      " |  \n",
      " |  count(self, value, /)\n",
      " |      Return number of occurrences of value.\n",
      " |  \n",
      " |  extend(self, iterable, /)\n",
      " |      Extend list by appending elements from the iterable.\n",
      " |  \n",
      " |  index(self, value, start=0, stop=9223372036854775807, /)\n",
      " |      Return first index of value.\n",
      " |      \n",
      " |      Raises ValueError if the value is not present.\n",
      " |  \n",
      " |  insert(self, index, object, /)\n",
      " |      Insert object before index.\n",
      " |  \n",
      " |  pop(self, index=-1, /)\n",
      " |      Remove and return item at index (default last).\n",
      " |      \n",
      " |      Raises IndexError if list is empty or index is out of range.\n",
      " |  \n",
      " |  remove(self, value, /)\n",
      " |      Remove first occurrence of value.\n",
      " |      \n",
      " |      Raises ValueError if the value is not present.\n",
      " |  \n",
      " |  reverse(self, /)\n",
      " |      Reverse *IN PLACE*.\n",
      " |  \n",
      " |  sort(self, /, *, key=None, reverse=False)\n",
      " |      Sort the list in ascending order and return None.\n",
      " |      \n",
      " |      The sort is in-place (i.e. the list itself is modified) and stable (i.e. the\n",
      " |      order of two equal elements is maintained).\n",
      " |      \n",
      " |      If a key function is given, apply it once to each list item and sort them,\n",
      " |      ascending or descending, according to their function values.\n",
      " |      \n",
      " |      The reverse flag can be set to sort in descending order.\n",
      " |  \n",
      " |  ----------------------------------------------------------------------\n",
      " |  Static methods inherited from builtins.list:\n",
      " |  \n",
      " |  __new__(*args, **kwargs) from builtins.type\n",
      " |      Create and return a new object.  See help(type) for accurate signature.\n",
      " |  \n",
      " |  ----------------------------------------------------------------------\n",
      " |  Data and other attributes inherited from builtins.list:\n",
      " |  \n",
      " |  __hash__ = None\n",
      "\n"
     ]
    }
   ],
   "source": [
    "help(public_tweets_LA)"
   ]
  },
  {
   "cell_type": "markdown",
   "id": "8b4e0676",
   "metadata": {},
   "source": [
    "What does a single tweet look like?"
   ]
  },
  {
   "cell_type": "code",
   "execution_count": 68,
   "id": "54f053c8",
   "metadata": {},
   "outputs": [
    {
     "name": "stdout",
     "output_type": "stream",
     "text": [
      "RT @jiyoungforLA: It’s not just wealthy people who should be able to love near public transit. @LACity should never have allowed a waiver o…\n"
     ]
    }
   ],
   "source": [
    "tweet = public_tweets_LA[0]\n",
    "print (tweet.full_text)"
   ]
  },
  {
   "cell_type": "markdown",
   "id": "49b7b811",
   "metadata": {},
   "source": [
    "So now we've figured out that we can iterate (loop) over the tweets, and use the `text` attribute to get the content. There are other attributes too, but let's not worry about them for now.\n",
    "\n",
    "Let's turn to sentiment analysis. `textblob` uses the `corpora` from the `nltk` library. We already downloaded a couple of corpora, but we need two more. "
   ]
  },
  {
   "cell_type": "code",
   "execution_count": 69,
   "id": "4302379c",
   "metadata": {},
   "outputs": [
    {
     "name": "stderr",
     "output_type": "stream",
     "text": [
      "[nltk_data] Downloading package sentiwordnet to\n",
      "[nltk_data]     /Users/adammb/nltk_data...\n",
      "[nltk_data]   Package sentiwordnet is already up-to-date!\n",
      "[nltk_data] Downloading package wordnet to /Users/adammb/nltk_data...\n",
      "[nltk_data]   Package wordnet is already up-to-date!\n"
     ]
    }
   ],
   "source": [
    "import nltk\n",
    "nltk.download('sentiwordnet')\n",
    "nltk.download('wordnet')\n",
    "from textblob import TextBlob"
   ]
  },
  {
   "cell_type": "markdown",
   "id": "ffe569d1",
   "metadata": {},
   "source": [
    "Let's try some examples. Note from the docs: \n",
    "\n",
    "* The sentiment property returns a named tuple of the form `Sentiment(polarity, subjectivity)`. \n",
    "* The polarity score is a float within the range [-1.0, 1.0].\n",
    "* The subjectivity is a float within the range [0.0, 1.0] where 0.0 is very objective and 1.0 is very subjective."
   ]
  },
  {
   "cell_type": "code",
   "execution_count": 70,
   "id": "bc349440",
   "metadata": {},
   "outputs": [
    {
     "name": "stdout",
     "output_type": "stream",
     "text": [
      "Sentiment(polarity=0.25, subjectivity=0.3333333333333333)\n"
     ]
    }
   ],
   "source": [
    "# examples from the textblob docs: \n",
    "# https://textblob.readthedocs.io/en/dev/quickstart.html#sentiment-analysis\n",
    "\n",
    "sentence = TextBlob('I love riding public transit')\n",
    "print(sentence.sentiment)"
   ]
  },
  {
   "cell_type": "code",
   "execution_count": 71,
   "id": "1e5a7006",
   "metadata": {},
   "outputs": [
    {
     "name": "stdout",
     "output_type": "stream",
     "text": [
      "Sentiment(polarity=-0.3, subjectivity=0.6)\n"
     ]
    }
   ],
   "source": [
    "sentence = TextBlob('My bus was late AGAIN today.')\n",
    "print(sentence.sentiment)"
   ]
  },
  {
   "cell_type": "markdown",
   "id": "24086578",
   "metadata": {},
   "source": [
    "We can access the polarity score directly. (Let's ignore subjectivity.)"
   ]
  },
  {
   "cell_type": "code",
   "execution_count": 72,
   "id": "a1c9aa07",
   "metadata": {},
   "outputs": [
    {
     "data": {
      "text/plain": [
       "-0.3"
      ]
     },
     "execution_count": 72,
     "metadata": {},
     "output_type": "execute_result"
    }
   ],
   "source": [
    "sentence.sentiment.polarity"
   ]
  },
  {
   "cell_type": "markdown",
   "id": "3d5814ea",
   "metadata": {},
   "source": [
    "Now let's come back to our tweets. We can compute the sentiment (polarity) score for each tweet. "
   ]
  },
  {
   "cell_type": "markdown",
   "id": "f6d3ec3b",
   "metadata": {},
   "source": [
    "<div class=\"alert alert-block alert-info\">\n",
    "<strong>Exercise:</strong> Write a function that returns the polarity for a given tweet object.</div>"
   ]
  },
  {
   "cell_type": "code",
   "execution_count": 73,
   "id": "62c4320c",
   "metadata": {
    "code_folding": [
     0
    ]
   },
   "outputs": [],
   "source": [
    "# solution\n",
    "def get_sentiment(tweet):\n",
    "    sentence = tweet.full_text\n",
    "    polarity = TextBlob(sentence).sentiment.polarity\n",
    "    return polarity"
   ]
  },
  {
   "cell_type": "markdown",
   "id": "058cda38",
   "metadata": {},
   "source": [
    "Now, we can apply this function to all of the tweets in our dataset.\n",
    "\n",
    "We could create a `pandas.DataFrame` and use `apply`. But in this instance, it's probably easier to create a list of sentiment scores."
   ]
  },
  {
   "cell_type": "code",
   "execution_count": 74,
   "id": "81b8ebdc",
   "metadata": {},
   "outputs": [
    {
     "name": "stdout",
     "output_type": "stream",
     "text": [
      "Score: 0.32. Tweet: RT @jiyoungforLA: It’s not just wealthy people who should be able to love near public transit. @LACity should never have allowed a waiver o…\n",
      "Score: 0.32. Tweet: RT @jiyoungforLA: It’s not just wealthy people who should be able to love near public transit. @LACity should never have allowed a waiver o…\n",
      "Score: 0.16. Tweet: @woolie not totally shocking given CA transportation #s. but also look at NYC open data, it is clear that they do a better job counting then we do w/ active transpo or public transit https://t.co/WQAP4V7y4Y\n",
      "Score: 0.33. Tweet: “Themed ‘2001: A Transit Odyssey,’ the [RTD] open house festivities featured displays &amp; exhibits of futuristic public transit projects to be built through the year 2000.” @MetroLibrary (1985): https://t.co/UmECalXaaJ\n",
      "\n",
      "Happy #StarWarsDay! #MayThe4thBeWithYou https://t.co/m0oEI8JivY\n",
      "Score: 0.60. Tweet: @meaganloyst Uber / Lyft\n",
      "\n",
      "Cabs/public transit never scaled because everyone here is on a quest to own a car.\n"
     ]
    }
   ],
   "source": [
    "sentiments_la = [get_sentiment(tweet) for tweet in public_tweets_LA]\n",
    "for i in range(len(public_tweets_LA)):\n",
    "    print('Score: {:.2f}. Tweet: {}'.format(sentiments_la[i], public_tweets_LA[i].full_text))"
   ]
  },
  {
   "cell_type": "markdown",
   "id": "911c99f5",
   "metadata": {},
   "source": [
    "Now let's visualize it. A histogram seems appropriate here.\n",
    "\n",
    "Note that the seaborn `histplot` can take a list or any other sequence, as well as a `DataFrame`. "
   ]
  },
  {
   "cell_type": "code",
   "execution_count": 75,
   "id": "3963a4f2",
   "metadata": {},
   "outputs": [
    {
     "name": "stdout",
     "output_type": "stream",
     "text": [
      "Help on function histplot in module seaborn.distributions:\n",
      "\n",
      "histplot(data=None, *, x=None, y=None, hue=None, weights=None, stat='count', bins='auto', binwidth=None, binrange=None, discrete=None, cumulative=False, common_bins=True, common_norm=True, multiple='layer', element='bars', fill=True, shrink=1, kde=False, kde_kws=None, line_kws=None, thresh=0, pthresh=None, pmax=None, cbar=False, cbar_ax=None, cbar_kws=None, palette=None, hue_order=None, hue_norm=None, color=None, log_scale=None, legend=True, ax=None, **kwargs)\n",
      "    Plot univariate or bivariate histograms to show distributions of datasets.\n",
      "    \n",
      "    A histogram is a classic visualization tool that represents the distribution\n",
      "    of one or more variables by counting the number of observations that fall within\n",
      "    disrete bins.\n",
      "    \n",
      "    This function can normalize the statistic computed within each bin to estimate\n",
      "    frequency, density or probability mass, and it can add a smooth curve obtained\n",
      "    using a kernel density estimate, similar to :func:`kdeplot`.\n",
      "    \n",
      "    More information is provided in the :ref:`user guide <tutorial_hist>`.\n",
      "    \n",
      "    Parameters\n",
      "    ----------\n",
      "    data : :class:`pandas.DataFrame`, :class:`numpy.ndarray`, mapping, or sequence\n",
      "        Input data structure. Either a long-form collection of vectors that can be\n",
      "        assigned to named variables or a wide-form dataset that will be internally\n",
      "        reshaped.\n",
      "    x, y : vectors or keys in ``data``\n",
      "        Variables that specify positions on the x and y axes.\n",
      "    hue : vector or key in ``data``\n",
      "        Semantic variable that is mapped to determine the color of plot elements.\n",
      "    weights : vector or key in ``data``\n",
      "        If provided, weight the contribution of the corresponding data points\n",
      "        towards the count in each bin by these factors.\n",
      "    stat : {\"count\", \"frequency\", \"density\", \"probability\"}\n",
      "        Aggregate statistic to compute in each bin.\n",
      "        \n",
      "        - ``count`` shows the number of observations\n",
      "        - ``frequency`` shows the number of observations divided by the bin width\n",
      "        - ``density`` normalizes counts so that the area of the histogram is 1\n",
      "        - ``probability`` normalizes counts so that the sum of the bar heights is 1\n",
      "    bins : str, number, vector, or a pair of such values\n",
      "        Generic bin parameter that can be the name of a reference rule,\n",
      "        the number of bins, or the breaks of the bins.\n",
      "        Passed to :func:`numpy.histogram_bin_edges`.\n",
      "    binwidth : number or pair of numbers\n",
      "        Width of each bin, overrides ``bins`` but can be used with\n",
      "        ``binrange``.\n",
      "    binrange : pair of numbers or a pair of pairs\n",
      "        Lowest and highest value for bin edges; can be used either\n",
      "        with ``bins`` or ``binwidth``. Defaults to data extremes.\n",
      "    discrete : bool\n",
      "        If True, default to ``binwidth=1`` and draw the bars so that they are\n",
      "        centered on their corresponding data points. This avoids \"gaps\" that may\n",
      "        otherwise appear when using discrete (integer) data.\n",
      "    cumulative : bool\n",
      "        If True, plot the cumulative counts as bins increase.\n",
      "    common_bins : bool\n",
      "        If True, use the same bins when semantic variables produce multiple\n",
      "        plots. If using a reference rule to determine the bins, it will be computed\n",
      "        with the full dataset.\n",
      "    common_norm : bool\n",
      "        If True and using a normalized statistic, the normalization will apply over\n",
      "        the full dataset. Otherwise, normalize each histogram independently.\n",
      "    multiple : {\"layer\", \"dodge\", \"stack\", \"fill\"}\n",
      "        Approach to resolving multiple elements when semantic mapping creates subsets.\n",
      "        Only relevant with univariate data.\n",
      "    element : {\"bars\", \"step\", \"poly\"}\n",
      "        Visual representation of the histogram statistic.\n",
      "        Only relevant with univariate data.\n",
      "    fill : bool\n",
      "        If True, fill in the space under the histogram.\n",
      "        Only relevant with univariate data.\n",
      "    shrink : number\n",
      "        Scale the width of each bar relative to the binwidth by this factor.\n",
      "        Only relevant with univariate data.\n",
      "    kde : bool\n",
      "        If True, compute a kernel density estimate to smooth the distribution\n",
      "        and show on the plot as (one or more) line(s).\n",
      "        Only relevant with univariate data.\n",
      "    kde_kws : dict\n",
      "        Parameters that control the KDE computation, as in :func:`kdeplot`.\n",
      "    line_kws : dict\n",
      "        Parameters that control the KDE visualization, passed to\n",
      "        :meth:`matplotlib.axes.Axes.plot`.\n",
      "    thresh : number or None\n",
      "        Cells with a statistic less than or equal to this value will be transparent.\n",
      "        Only relevant with bivariate data.\n",
      "    pthresh : number or None\n",
      "        Like ``thresh``, but a value in [0, 1] such that cells with aggregate counts\n",
      "        (or other statistics, when used) up to this proportion of the total will be\n",
      "        transparent.\n",
      "    pmax : number or None\n",
      "        A value in [0, 1] that sets that saturation point for the colormap at a value\n",
      "        such that cells below is constistute this proportion of the total count (or\n",
      "        other statistic, when used).\n",
      "    cbar : bool\n",
      "        If True, add a colorbar to annotate the color mapping in a bivariate plot.\n",
      "        Note: Does not currently support plots with a ``hue`` variable well.\n",
      "    cbar_ax : :class:`matplotlib.axes.Axes`\n",
      "        Pre-existing axes for the colorbar.\n",
      "    cbar_kws : dict\n",
      "        Additional parameters passed to :meth:`matplotlib.figure.Figure.colorbar`.\n",
      "    palette : string, list, dict, or :class:`matplotlib.colors.Colormap`\n",
      "        Method for choosing the colors to use when mapping the ``hue`` semantic.\n",
      "        String values are passed to :func:`color_palette`. List or dict values\n",
      "        imply categorical mapping, while a colormap object implies numeric mapping.\n",
      "    hue_order : vector of strings\n",
      "        Specify the order of processing and plotting for categorical levels of the\n",
      "        ``hue`` semantic.\n",
      "    hue_norm : tuple or :class:`matplotlib.colors.Normalize`\n",
      "        Either a pair of values that set the normalization range in data units\n",
      "        or an object that will map from data units into a [0, 1] interval. Usage\n",
      "        implies numeric mapping.\n",
      "    color : :mod:`matplotlib color <matplotlib.colors>`\n",
      "        Single color specification for when hue mapping is not used. Otherwise, the\n",
      "        plot will try to hook into the matplotlib property cycle.\n",
      "    log_scale : bool or number, or pair of bools or numbers\n",
      "        Set a log scale on the data axis (or axes, with bivariate data) with the\n",
      "        given base (default 10), and evaluate the KDE in log space.\n",
      "    legend : bool\n",
      "        If False, suppress the legend for semantic variables.\n",
      "    ax : :class:`matplotlib.axes.Axes`\n",
      "        Pre-existing axes for the plot. Otherwise, call :func:`matplotlib.pyplot.gca`\n",
      "        internally.\n",
      "    kwargs\n",
      "        Other keyword arguments are passed to one of the following matplotlib\n",
      "        functions:\n",
      "    \n",
      "        - :meth:`matplotlib.axes.Axes.bar` (univariate, element=\"bars\")\n",
      "        - :meth:`matplotlib.axes.Axes.fill_between` (univariate, other element, fill=True)\n",
      "        - :meth:`matplotlib.axes.Axes.plot` (univariate, other element, fill=False)\n",
      "        - :meth:`matplotlib.axes.Axes.pcolormesh` (bivariate)\n",
      "    \n",
      "    Returns\n",
      "    -------\n",
      "    :class:`matplotlib.axes.Axes`\n",
      "        The matplotlib axes containing the plot.\n",
      "    \n",
      "    See Also\n",
      "    --------\n",
      "    displot : Figure-level interface to distribution plot functions.\n",
      "    kdeplot : Plot univariate or bivariate distributions using kernel density estimation.\n",
      "    rugplot : Plot a tick at each observation value along the x and/or y axes.\n",
      "    ecdfplot : Plot empirical cumulative distribution functions.\n",
      "    jointplot : Draw a bivariate plot with univariate marginal distributions.\n",
      "    \n",
      "    Notes\n",
      "    -----\n",
      "    \n",
      "    The choice of bins for computing and plotting a histogram can exert\n",
      "    substantial influence on the insights that one is able to draw from the\n",
      "    visualization. If the bins are too large, they may erase important features.\n",
      "    On the other hand, bins that are too small may be dominated by random\n",
      "    variability, obscuring the shape of the true underlying distribution. The\n",
      "    default bin size is determined using a reference rule that depends on the\n",
      "    sample size and variance. This works well in many cases, (i.e., with\n",
      "    \"well-behaved\" data) but it fails in others. It is always a good to try\n",
      "    different bin sizes to be sure that you are not missing something important.\n",
      "    This function allows you to specify bins in several different ways, such as\n",
      "    by setting the total number of bins to use, the width of each bin, or the\n",
      "    specific locations where the bins should break.\n",
      "    \n",
      "    Examples\n",
      "    --------\n",
      "    \n",
      "    .. include:: ../docstrings/histplot.rst\n",
      "\n"
     ]
    }
   ],
   "source": [
    "import seaborn as sns\n",
    "help(sns.histplot)"
   ]
  },
  {
   "cell_type": "code",
   "execution_count": 76,
   "id": "4d530348",
   "metadata": {},
   "outputs": [
    {
     "data": {
      "text/plain": [
       "<AxesSubplot:ylabel='Count'>"
      ]
     },
     "execution_count": 76,
     "metadata": {},
     "output_type": "execute_result"
    },
    {
     "data": {
      "image/png": "[encoded data removed]",
      "text/plain": [
       "<Figure size 432x288 with 1 Axes>"
      ]
     },
     "metadata": {
      "needs_background": "light"
     },
     "output_type": "display_data"
    }
   ],
   "source": [
    "sns.histplot(sentiments_la)"
   ]
  },
  {
   "cell_type": "markdown",
   "id": "d070b3d8",
   "metadata": {},
   "source": [
    "What else might we want to do? \n",
    "* We might want to remove retweets if we consider these to be duplicates (although it's not obvious what the best approach is)\n",
    "* Perhaps we want to tokenize into sentences. Otherwise, for longer tweets, the more polarized (opinionated) tweets might be watered down with other sentences.\n",
    "* We might want to compare different transit agencies\n",
    "\n",
    "Retweets can be easily removed. If we look at a few examples, they include the string 'RT @'.\n",
    "\n",
    "And we saw the sentence tokenizer in the last notebook. Here, we take the mean of all sentences in a tweet, but we could also return a list with a polarity for each sentence."
   ]
  },
  {
   "cell_type": "code",
   "execution_count": 77,
   "id": "f793b133",
   "metadata": {},
   "outputs": [
    {
     "name": "stdout",
     "output_type": "stream",
     "text": [
      "[0.16111111111111112, 0.16666666666666666, 0.6]\n"
     ]
    }
   ],
   "source": [
    "from nltk.tokenize import sent_tokenize\n",
    "import numpy as np\n",
    "\n",
    "def get_sentiment(tweet):\n",
    "    # returns mean polarity of all sentences in a tweet\n",
    "    if 'RT @' in tweet.full_text:\n",
    "        return None \n",
    "    else:\n",
    "        sentences = sent_tokenize(tweet.full_text)\n",
    "        polarities = [TextBlob(s).sentiment.polarity for s in sentences]\n",
    "        return np.mean(polarities)\n",
    "\n",
    "sentiments_la = [get_sentiment(tweet) for tweet in public_tweets_LA]\n",
    "\n",
    "# exclude the None values\n",
    "sentiments_la = [s for s in sentiments_la if s is not None]\n",
    "\n",
    "print(sentiments_la)"
   ]
  },
  {
   "cell_type": "markdown",
   "id": "b1a414ae",
   "metadata": {},
   "source": [
    "Finally, let's compare different transit agencies. We have the tweets for LA. What about Houston, and NYC?"
   ]
  },
  {
   "cell_type": "code",
   "execution_count": 78,
   "id": "091c3a4a",
   "metadata": {},
   "outputs": [
    {
     "name": "stdout",
     "output_type": "stream",
     "text": [
      "Mean sentiment for LA: 0.31\n",
      "Mean sentiment for Houston: 0.02\n",
      "Mean sentiment for NYC: -0.02\n"
     ]
    }
   ],
   "source": [
    "# centroids looked up manually\n",
    "centroids = {'LA': '34.052235,-118.243683,10km',\n",
    "             'Houston': '29.749907,-95.358421,10km',\n",
    "             'NYC': '40.7127281,-74.0060152,10km'}\n",
    "n_tweets = 5 # keep this low to avoid running up against API limits\n",
    "\n",
    "# create empty dictionaries to hold the results\n",
    "# both will be dicts of lists\n",
    "tweets = {}\n",
    "sentiments = {}\n",
    "\n",
    "# looping over dictionary items yields the key and the value\n",
    "for place, centroid in centroids.items():\n",
    "    # add the tweets for that place to our dictionary\n",
    "    tweets[place] = api.search('public transit', \n",
    "                            tweet_mode='extended', geocode=centroid, lang='en', \n",
    "                            Since='2020-03-15',count=n_tweets)\n",
    "\n",
    "    # add the sentiments for that place to our dictionary\n",
    "    sentiments[place] = [get_sentiment(tweet) for tweet in tweets[place]]\n",
    "    sentiments[place] = [s for s in sentiments[place] if s is not None]\n",
    "    \n",
    "    print('Mean sentiment for {}: {:.2f}'.format(place, np.mean(sentiments[place])))"
   ]
  },
  {
   "cell_type": "markdown",
   "id": "00157e39",
   "metadata": {},
   "source": [
    "We've already used the `plt.subplots()` function to create a set of axes. However, its real power comes in creating figures with multiple plots."
   ]
  },
  {
   "cell_type": "code",
   "execution_count": 79,
   "id": "3a371873",
   "metadata": {},
   "outputs": [
    {
     "data": {
      "image/png": "[encoded data removed]",
      "text/plain": [
       "<Figure size 432x288 with 3 Axes>"
      ]
     },
     "metadata": {
      "needs_background": "light"
     },
     "output_type": "display_data"
    }
   ],
   "source": [
    "import matplotlib.pyplot as plt\n",
    "\n",
    "# this creates a 1x3 matrix of plots, and returns a list of axes objects\n",
    "fig, axes = plt.subplots(1, 3)\n",
    "\n",
    "# we can now access each axis as axes[0], axes[1], etc.\n",
    "# or even loop through them as with any other list"
   ]
  },
  {
   "cell_type": "code",
   "execution_count": 80,
   "id": "91027146",
   "metadata": {},
   "outputs": [
    {
     "data": {
      "image/png": "[encoded data removed]",
      "text/plain": [
       "<Figure size 432x288 with 3 Axes>"
      ]
     },
     "metadata": {
      "needs_background": "light"
     },
     "output_type": "display_data"
    }
   ],
   "source": [
    "fig, axes = plt.subplots(1, 3)\n",
    "\n",
    "# enumerate returns a counter as well as the element of the list\n",
    "for ii, place in enumerate(sentiments.keys()):\n",
    "    sns.histplot(sentiments[place], ax=axes[ii])\n",
    "    axes[ii].set_title('Sentiments for {}'.format(place))"
   ]
  },
  {
   "cell_type": "markdown",
   "id": "fa29fb89",
   "metadata": {},
   "source": [
    "<div class=\"alert alert-block alert-info\">\n",
    "<strong>Exercise:</strong> How can we improve these plots? Make a list of things that you want to change. If you can implement any of them, even better, but we can do that together.</div>"
   ]
  },
  {
   "cell_type": "markdown",
   "id": "1bc4a484",
   "metadata": {},
   "source": [
    "There is lots more we can do here. For example:\n",
    "* We relied on a single search term and geolocation. We might also consider looking at tweets that tag a particular agency. Note that many / most users do not geotag their tweets.\n",
    "* We might use different search terms (bus, subway, etc.). Note that generic terms are harder (Lyft is easier to use, but Uber might return a lot of unrelated results).\n",
    "* We could use a different sentiment analyzer ([`TextBlob` has a couple of pre-trained options](https://textblob.readthedocs.io/en/dev/advanced_usage.html) or train our own sentiment analyzer using the `nltk` \n",
    "functionality. Sentiment analyzers are often trained on movie reviews and similarly \"opinionated\" corpuses, and so more specialist applications need custom training.\n",
    "\n",
    "But we'll leave those for you to explore on your own.\n"
   ]
  },
  {
   "cell_type": "markdown",
   "id": "b9ce3eca",
   "metadata": {},
   "source": [
    "<div class=\"alert alert-block alert-info\">\n",
    "<h3>Key Takeaways</h3>\n",
    "<ul>\n",
    "  <li>Twitter has a powerful API that is relatively easy to use. Twitter also recently released a <a href=\"https://zacharyst.com/2021/01/27/initial-thoughts-on-twitters-academic-accounts/\">new product for academic research</a>.</li>\n",
    "  <li>But as we saw before, Twitter is not representative. Whether that matters depends on your particular project and use case.</li>\n",
    "    <li>Sentiment analysis can identify positive and negative sentiments towards a topic. The pre-trained models might not work well for your data, but you can train your own.</li>\n",
    "</ul>\n",
    "</div>"
   ]
  },
  {
   "cell_type": "code",
   "execution_count": null,
   "id": "5161b51a",
   "metadata": {},
   "outputs": [],
   "source": []
  }
 ],
 "metadata": {
  "kernelspec": {
   "display_name": "Python 3",
   "language": "python",
   "name": "python3"
  },
  "language_info": {
   "codemirror_mode": {
    "name": "ipython",
    "version": 3
   },
   "file_extension": ".py",
   "mimetype": "text/x-python",
   "name": "python",
   "nbconvert_exporter": "python",
   "pygments_lexer": "ipython3",
   "version": "3.8.8"
  }
 },
 "nbformat": 4,
 "nbformat_minor": 5
}
