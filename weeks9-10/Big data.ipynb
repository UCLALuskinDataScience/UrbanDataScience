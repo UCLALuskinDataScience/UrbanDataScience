{
 "cells": [
  {
   "cell_type": "markdown",
   "id": "f01c4105",
   "metadata": {},
   "source": [
    "# Week 10. Big data\n",
    "## Today's objectives\n",
    "\n",
    "1. Understand some of the strategies to handle large data sets\n",
    "2. Know how to profile the performance of particular functions\n",
    "3. Know what parallelization does and how to implement it\n",
    "\n",
    "Big data is often characterized by the 3 \"Vs\": velocity, volume, and variety.\n",
    "\n",
    "We've talked implicitly about the \"variety\" throughout the course — how to clean, join, and otherwise wrangle datasets. Here, we'll focus on issues of volume. In short, what can you do when a dataset doesn't fit into memory, or your code takes too long to run.\n",
    "\n",
    "Here, I'll set out a hierarchy of approaches to dealing with large datasets. Start with the simplest, and move on to the next group of solutions as needed.\n",
    "\n",
    "## 1. No special coding needed\n",
    "* Testing and scaling up\n",
    "* Running overnight\n",
    "* Finding a secondary computer\n",
    "* Profiling\n",
    "* Being economical with data types\n",
    "* Sampling\n",
    "* Tiling\n",
    "\n",
    "This group of strategies is all about being efficient and thoughtful with your analysis. It doesn't need any special procedures or coding, and some of the strategies are self explanatory.\n",
    "\n",
    "*Testing and scaling up*: get your code working on a tiny subset of the data, before running it on your full dataset. This seems obvious, but will save you a lot of time. For example: run your code on Ventura County data before doing LA County, or take a small city in the county.\n",
    "\n",
    "*Running overnight*: Again, this seems obvious. But remember: your time is much more valuable than the computer's. You could spend the time to make your code more efficient, or you could just leave your computer running in the kitchen or in a closet while you sleep / go to the beach / do something fun.\n",
    "\n",
    "*Finding a secondary computer*: Maybe you have an old laptop with a cracked screen, an erratic keyboard, and a battery that holds about 15 minutes of charge? This is the perfect machine to do some web scraping or similar tasks in the background. Leave it running for a few days/weeks/months and plug in an external hard drive. \n",
    "\n",
    "*Profiling*: This means identifying the slowest parts of your code, and thinking about how to speed it up. Sometimes, that will be obvious. But in other cases, you can use the `%timeit` function. \n",
    "\n",
    "For example, imagine you have a long text document and you want to identify stopwords. You might want to loop over each row of the `DatFrame` using `iterrows()`. Let's try this."
   ]
  },
  {
   "cell_type": "code",
   "execution_count": 65,
   "id": "5799e7ef",
   "metadata": {},
   "outputs": [
    {
     "name": "stdout",
     "output_type": "stream",
     "text": [
      "10000\n"
     ]
    },
    {
     "data": {
      "text/html": [
       "<div>\n",
       "<style scoped>\n",
       "    .dataframe tbody tr th:only-of-type {\n",
       "        vertical-align: middle;\n",
       "    }\n",
       "\n",
       "    .dataframe tbody tr th {\n",
       "        vertical-align: top;\n",
       "    }\n",
       "\n",
       "    .dataframe thead th {\n",
       "        text-align: right;\n",
       "    }\n",
       "</style>\n",
       "<table border=\"1\" class=\"dataframe\">\n",
       "  <thead>\n",
       "    <tr style=\"text-align: right;\">\n",
       "      <th></th>\n",
       "      <th>word</th>\n",
       "      <th>is_stopword</th>\n",
       "    </tr>\n",
       "  </thead>\n",
       "  <tbody>\n",
       "    <tr>\n",
       "      <th>0</th>\n",
       "      <td>b'a'</td>\n",
       "      <td>None</td>\n",
       "    </tr>\n",
       "    <tr>\n",
       "      <th>1</th>\n",
       "      <td>b'aa'</td>\n",
       "      <td>None</td>\n",
       "    </tr>\n",
       "    <tr>\n",
       "      <th>2</th>\n",
       "      <td>b'aaa'</td>\n",
       "      <td>None</td>\n",
       "    </tr>\n",
       "    <tr>\n",
       "      <th>3</th>\n",
       "      <td>b'aaron'</td>\n",
       "      <td>None</td>\n",
       "    </tr>\n",
       "    <tr>\n",
       "      <th>4</th>\n",
       "      <td>b'ab'</td>\n",
       "      <td>None</td>\n",
       "    </tr>\n",
       "  </tbody>\n",
       "</table>\n",
       "</div>"
      ],
      "text/plain": [
       "       word is_stopword\n",
       "0      b'a'        None\n",
       "1     b'aa'        None\n",
       "2    b'aaa'        None\n",
       "3  b'aaron'        None\n",
       "4     b'ab'        None"
      ]
     },
     "execution_count": 65,
     "metadata": {},
     "output_type": "execute_result"
    }
   ],
   "source": [
    "%config Completer.use_jedi = False\n",
    "\n",
    "# this is a word list. See https://stackoverflow.com/questions/18834636/random-word-generator-python\n",
    "import requests\n",
    "word_site = \"https://www.mit.edu/~ecprice/wordlist.10000\"\n",
    "response = requests.get(word_site)\n",
    "wordDf = pd.DataFrame(response.content.splitlines(), columns=['word'])\n",
    "wordDf['is_stopword'] = None\n",
    "print(len(wordDf))\n",
    "wordDf.head()"
   ]
  },
  {
   "cell_type": "code",
   "execution_count": 66,
   "id": "99c172fc",
   "metadata": {},
   "outputs": [
    {
     "name": "stdout",
     "output_type": "stream",
     "text": [
      "2.7 s ± 7.75 ms per loop (mean ± std. dev. of 7 runs, 1 loop each)\n"
     ]
    }
   ],
   "source": [
    "from nltk.corpus import stopwords\n",
    "\n",
    "def exclude_stopwords(wdf):\n",
    "    for idx, row in wdf.iterrows():\n",
    "        if row['word'] in stopwords.words('english'):\n",
    "            wdf.loc[idx, 'is_stopword'] = True\n",
    "        else:\n",
    "            wdf.loc[idx, 'is_stopword'] = True\n",
    "    return wdf\n",
    "           \n",
    "# to use %timeit, just put it in front of your function\n",
    "%timeit newdf = exclude_stopwords(wordDf)"
   ]
  },
  {
   "cell_type": "markdown",
   "id": "81cdb046",
   "metadata": {},
   "source": [
    "That took nearly 3 seconds on my computer...not a big deal, but it might matter if you are dealing with tens of thousands of long documents.\n",
    "\n",
    "What about using `apply` with a `lambda` function? For me, it takes 1 second - a speed up of nearly 3 times."
   ]
  },
  {
   "cell_type": "code",
   "execution_count": 67,
   "id": "75e60361",
   "metadata": {},
   "outputs": [
    {
     "name": "stdout",
     "output_type": "stream",
     "text": [
      "1 s ± 19.4 ms per loop (mean ± std. dev. of 7 runs, 1 loop each)\n"
     ]
    }
   ],
   "source": [
    "%timeit wordDf['is_stopword'] = wordDf.word.apply(lambda x: x in stopwords.words('english'))"
   ]
  },
  {
   "cell_type": "markdown",
   "id": "0bb4a099",
   "metadata": {},
   "source": [
    "*Being economical with data types*. \n",
    "\n",
    "Data types refer to how an object (integer, string, etc.) is stored by Python. `pandas` generally uses the underlying `numpy` data types, [which are described here](https://numpy.org/doc/stable/user/basics.types.html).\n",
    "\n",
    "Why should you care about data types? Often, it doesn't matter - if you have integers, storing them as a float will usually work just as well. But we've seen several instances where we need to convert the data type.\n",
    "\n",
    "In particular, numbers can be stored as strings, but we need to convert them to integers or floats to do arithmetic.\n",
    "\n",
    "And census geoidentifiers (e.g. tract) can be stored as numbers, but that loses the leading zero, so they are hard to join if one table has the geoid as a string."
   ]
  },
  {
   "cell_type": "code",
   "execution_count": 68,
   "id": "84f4e78a",
   "metadata": {},
   "outputs": [
    {
     "ename": "TypeError",
     "evalue": "can't multiply sequence by non-int of type 'str'",
     "output_type": "error",
     "traceback": [
      "\u001b[0;31m---------------------------------------------------------------------------\u001b[0m",
      "\u001b[0;31mTypeError\u001b[0m                                 Traceback (most recent call last)",
      "\u001b[0;32m<ipython-input-68-7a4a82b33d1f>\u001b[0m in \u001b[0;36m<module>\u001b[0;34m\u001b[0m\n\u001b[1;32m      1\u001b[0m \u001b[0mx\u001b[0m \u001b[0;34m=\u001b[0m \u001b[0;34m'1'\u001b[0m\u001b[0;34m\u001b[0m\u001b[0;34m\u001b[0m\u001b[0m\n\u001b[1;32m      2\u001b[0m \u001b[0my\u001b[0m \u001b[0;34m=\u001b[0m \u001b[0;34m'2'\u001b[0m\u001b[0;34m\u001b[0m\u001b[0;34m\u001b[0m\u001b[0m\n\u001b[0;32m----> 3\u001b[0;31m \u001b[0mprint\u001b[0m\u001b[0;34m(\u001b[0m\u001b[0mx\u001b[0m\u001b[0;34m*\u001b[0m\u001b[0my\u001b[0m\u001b[0;34m)\u001b[0m  \u001b[0;31m# fails because they are strings\u001b[0m\u001b[0;34m\u001b[0m\u001b[0;34m\u001b[0m\u001b[0m\n\u001b[0m",
      "\u001b[0;31mTypeError\u001b[0m: can't multiply sequence by non-int of type 'str'"
     ]
    }
   ],
   "source": [
    "x = '1'\n",
    "y = '2'\n",
    "print(x*y)  # fails because they are strings"
   ]
  },
  {
   "cell_type": "code",
   "execution_count": 69,
   "id": "784d7657",
   "metadata": {},
   "outputs": [
    {
     "name": "stdout",
     "output_type": "stream",
     "text": [
      "2\n"
     ]
    }
   ],
   "source": [
    "print(int(x)*int(y))   # converting to integer works"
   ]
  },
  {
   "cell_type": "markdown",
   "id": "8f898338",
   "metadata": {},
   "source": [
    "The other major time when you have to worry about data types is to increase the efficiency of your data storage. In general, the order from most- to least-efficient is:\n",
    "* boolean (True or False)\n",
    "* integer\n",
    "* float\n",
    "* string / object\n",
    "\n",
    "The relevant consideration is how many *bytes* they consume. For example, an integer can be represented in various ways:\n",
    "* `int64` is the default, which can represent integers from  from -9223372036854775808 to +9223372036854775807 \n",
    "* `int32` consumes half as much space, but can only represent -2147483648 to +2147483647\n",
    "* `int16` and `int8` are also possibilities, if you are sure that you won't have large numbers\n",
    "* You can also have unsigned integers (positive numbers only)\n",
    "\n",
    "Similar logic applies to floats: `float64`, `float32`, etc. Here, it's the precision rather than the range that's affected."
   ]
  },
  {
   "cell_type": "code",
   "execution_count": 70,
   "id": "9b96dcc9",
   "metadata": {},
   "outputs": [
    {
     "name": "stdout",
     "output_type": "stream",
     "text": [
      "<class 'pandas.core.frame.DataFrame'>\n",
      "RangeIndex: 50000 entries, 0 to 49999\n",
      "Data columns (total 1 columns):\n",
      " #   Column  Non-Null Count  Dtype  \n",
      "---  ------  --------------  -----  \n",
      " 0   ones    50000 non-null  float64\n",
      "dtypes: float64(1)\n",
      "memory usage: 390.8 KB\n"
     ]
    }
   ],
   "source": [
    "import pandas as pd\n",
    "import numpy as np\n",
    "\n",
    "# create a dataframe with one column of ones\n",
    "df = pd.DataFrame(np.ones(50000), columns=['ones'])\n",
    "\n",
    "df.info()"
   ]
  },
  {
   "cell_type": "code",
   "execution_count": 71,
   "id": "c9bfff38",
   "metadata": {},
   "outputs": [
    {
     "name": "stdout",
     "output_type": "stream",
     "text": [
      "<class 'pandas.core.frame.DataFrame'>\n",
      "RangeIndex: 50000 entries, 0 to 49999\n",
      "Data columns (total 1 columns):\n",
      " #   Column  Non-Null Count  Dtype\n",
      "---  ------  --------------  -----\n",
      " 0   ones    50000 non-null  int8 \n",
      "dtypes: int8(1)\n",
      "memory usage: 49.0 KB\n"
     ]
    }
   ],
   "source": [
    "df['ones'] = df.ones.astype('int8')\n",
    "df.info()"
   ]
  },
  {
   "cell_type": "markdown",
   "id": "8a77dad4",
   "metadata": {},
   "source": [
    "We reduce the size of our dataframe from 391k to 49k – an eightfold reduction (which makes sense as we are going from 64 bit to 8 bit).\n",
    "\n",
    "Here's a less trivial example, using the parcels dataset that we used for ADU prediction."
   ]
  },
  {
   "cell_type": "code",
   "execution_count": 72,
   "id": "40f1b761",
   "metadata": {},
   "outputs": [
    {
     "name": "stdout",
     "output_type": "stream",
     "text": [
      "<class 'pandas.core.frame.DataFrame'>\n",
      "RangeIndex: 4313 entries, 0 to 4312\n",
      "Data columns (total 73 columns):\n",
      " #   Column    Non-Null Count  Dtype \n",
      "---  ------    --------------  ----- \n",
      " 0   county    4313 non-null   int64 \n",
      " 1   srprec    4313 non-null   object\n",
      " 2   addist    4313 non-null   int64 \n",
      " 3   cddist    4313 non-null   int64 \n",
      " 4   sddist    4313 non-null   int64 \n",
      " 5   bedist    4313 non-null   int64 \n",
      " 6   TOTREG    4313 non-null   int64 \n",
      " 7   DEMREG    4313 non-null   int64 \n",
      " 8   REPREG    4313 non-null   int64 \n",
      " 9   AIPREG    4313 non-null   int64 \n",
      " 10  GRNREG    4313 non-null   int64 \n",
      " 11  LIBREG    4313 non-null   int64 \n",
      " 12  NLPREG    4313 non-null   int64 \n",
      " 13  REFREG    4313 non-null   int64 \n",
      " 14  DCLREG    4313 non-null   int64 \n",
      " 15  MSCREG    4313 non-null   int64 \n",
      " 16  TOTVOTE   4313 non-null   int64 \n",
      " 17  DEMVOTE   4313 non-null   int64 \n",
      " 18  REPVOTE   4313 non-null   int64 \n",
      " 19  AIPVOTE   4313 non-null   int64 \n",
      " 20  GRNVOTE   4313 non-null   int64 \n",
      " 21  LIBVOTE   4313 non-null   int64 \n",
      " 22  NLPVOTE   4313 non-null   int64 \n",
      " 23  REFVOTE   4313 non-null   int64 \n",
      " 24  DCLVOTE   4313 non-null   int64 \n",
      " 25  MSCVOTE   4313 non-null   int64 \n",
      " 26  PRCVOTE   4313 non-null   int64 \n",
      " 27  ABSVOTE   4313 non-null   int64 \n",
      " 28  ASSDEM01  4313 non-null   int64 \n",
      " 29  ASSDEM02  4313 non-null   int64 \n",
      " 30  ASSGRN01  4313 non-null   int64 \n",
      " 31  ASSIND01  4313 non-null   int64 \n",
      " 32  ASSLIB01  4313 non-null   int64 \n",
      " 33  ASSREP01  4313 non-null   int64 \n",
      " 34  ASSREP02  4313 non-null   int64 \n",
      " 35  CNGDEM01  4313 non-null   int64 \n",
      " 36  CNGDEM02  4313 non-null   int64 \n",
      " 37  CNGREP01  4313 non-null   int64 \n",
      " 38  PRSAIP01  4313 non-null   int64 \n",
      " 39  PRSDEM01  4313 non-null   int64 \n",
      " 40  PRSGRN01  4313 non-null   int64 \n",
      " 41  PRSLIB01  4313 non-null   int64 \n",
      " 42  PRSPAF01  4313 non-null   int64 \n",
      " 43  PRSREP01  4313 non-null   int64 \n",
      " 44  PR_14_N   4313 non-null   int64 \n",
      " 45  PR_14_Y   4313 non-null   int64 \n",
      " 46  PR_15_N   4313 non-null   int64 \n",
      " 47  PR_15_Y   4313 non-null   int64 \n",
      " 48  PR_16_N   4313 non-null   int64 \n",
      " 49  PR_16_Y   4313 non-null   int64 \n",
      " 50  PR_17_N   4313 non-null   int64 \n",
      " 51  PR_17_Y   4313 non-null   int64 \n",
      " 52  PR_18_N   4313 non-null   int64 \n",
      " 53  PR_18_Y   4313 non-null   int64 \n",
      " 54  PR_19_N   4313 non-null   int64 \n",
      " 55  PR_19_Y   4313 non-null   int64 \n",
      " 56  PR_20_N   4313 non-null   int64 \n",
      " 57  PR_20_Y   4313 non-null   int64 \n",
      " 58  PR_21_N   4313 non-null   int64 \n",
      " 59  PR_21_Y   4313 non-null   int64 \n",
      " 60  PR_22_N   4313 non-null   int64 \n",
      " 61  PR_22_Y   4313 non-null   int64 \n",
      " 62  PR_23_N   4313 non-null   int64 \n",
      " 63  PR_23_Y   4313 non-null   int64 \n",
      " 64  PR_24_N   4313 non-null   int64 \n",
      " 65  PR_24_Y   4313 non-null   int64 \n",
      " 66  PR_25_N   4313 non-null   int64 \n",
      " 67  PR_25_Y   4313 non-null   int64 \n",
      " 68  SENAIP01  4313 non-null   int64 \n",
      " 69  SENDEM01  4313 non-null   int64 \n",
      " 70  SENDEM02  4313 non-null   int64 \n",
      " 71  SENLIB01  4313 non-null   int64 \n",
      " 72  SENREP01  4313 non-null   int64 \n",
      "dtypes: int64(72), object(1)\n",
      "memory usage: 2.4+ MB\n"
     ]
    }
   ],
   "source": [
    "# you may need to adjust your path\n",
    "df = pd.read_csv('../weeks7-8/c037_g20_sov_data_by_g20_srprec.csv')\n",
    "df.info()"
   ]
  },
  {
   "cell_type": "markdown",
   "id": "07c22277",
   "metadata": {},
   "source": [
    "Let's look at the maximum number of votes per precinct, to see what data type might be appropriate."
   ]
  },
  {
   "cell_type": "code",
   "execution_count": 73,
   "id": "1cb92804",
   "metadata": {},
   "outputs": [
    {
     "data": {
      "text/plain": [
       "5709853"
      ]
     },
     "execution_count": 73,
     "metadata": {},
     "output_type": "execute_result"
    }
   ],
   "source": [
    "# drop the non-numeric column, get the max of all other columsn, and then get the max of the max\n",
    "df.drop(columns=['srprec']).max().max()"
   ]
  },
  {
   "cell_type": "markdown",
   "id": "31d94230",
   "metadata": {},
   "source": [
    "That won't fit into `int16` (-32767 to +32767), but we could use `int32`."
   ]
  },
  {
   "cell_type": "code",
   "execution_count": 74,
   "id": "37363e45",
   "metadata": {},
   "outputs": [
    {
     "name": "stdout",
     "output_type": "stream",
     "text": [
      "<class 'pandas.core.frame.DataFrame'>\n",
      "RangeIndex: 4313 entries, 0 to 4312\n",
      "Data columns (total 73 columns):\n",
      " #   Column    Non-Null Count  Dtype \n",
      "---  ------    --------------  ----- \n",
      " 0   county    4313 non-null   int32 \n",
      " 1   srprec    4313 non-null   object\n",
      " 2   addist    4313 non-null   int32 \n",
      " 3   cddist    4313 non-null   int32 \n",
      " 4   sddist    4313 non-null   int32 \n",
      " 5   bedist    4313 non-null   int32 \n",
      " 6   TOTREG    4313 non-null   int32 \n",
      " 7   DEMREG    4313 non-null   int32 \n",
      " 8   REPREG    4313 non-null   int32 \n",
      " 9   AIPREG    4313 non-null   int32 \n",
      " 10  GRNREG    4313 non-null   int32 \n",
      " 11  LIBREG    4313 non-null   int32 \n",
      " 12  NLPREG    4313 non-null   int32 \n",
      " 13  REFREG    4313 non-null   int32 \n",
      " 14  DCLREG    4313 non-null   int32 \n",
      " 15  MSCREG    4313 non-null   int32 \n",
      " 16  TOTVOTE   4313 non-null   int32 \n",
      " 17  DEMVOTE   4313 non-null   int32 \n",
      " 18  REPVOTE   4313 non-null   int32 \n",
      " 19  AIPVOTE   4313 non-null   int32 \n",
      " 20  GRNVOTE   4313 non-null   int32 \n",
      " 21  LIBVOTE   4313 non-null   int32 \n",
      " 22  NLPVOTE   4313 non-null   int32 \n",
      " 23  REFVOTE   4313 non-null   int32 \n",
      " 24  DCLVOTE   4313 non-null   int32 \n",
      " 25  MSCVOTE   4313 non-null   int32 \n",
      " 26  PRCVOTE   4313 non-null   int32 \n",
      " 27  ABSVOTE   4313 non-null   int32 \n",
      " 28  ASSDEM01  4313 non-null   int32 \n",
      " 29  ASSDEM02  4313 non-null   int32 \n",
      " 30  ASSGRN01  4313 non-null   int32 \n",
      " 31  ASSIND01  4313 non-null   int32 \n",
      " 32  ASSLIB01  4313 non-null   int32 \n",
      " 33  ASSREP01  4313 non-null   int32 \n",
      " 34  ASSREP02  4313 non-null   int32 \n",
      " 35  CNGDEM01  4313 non-null   int32 \n",
      " 36  CNGDEM02  4313 non-null   int32 \n",
      " 37  CNGREP01  4313 non-null   int32 \n",
      " 38  PRSAIP01  4313 non-null   int32 \n",
      " 39  PRSDEM01  4313 non-null   int32 \n",
      " 40  PRSGRN01  4313 non-null   int32 \n",
      " 41  PRSLIB01  4313 non-null   int32 \n",
      " 42  PRSPAF01  4313 non-null   int32 \n",
      " 43  PRSREP01  4313 non-null   int32 \n",
      " 44  PR_14_N   4313 non-null   int32 \n",
      " 45  PR_14_Y   4313 non-null   int32 \n",
      " 46  PR_15_N   4313 non-null   int32 \n",
      " 47  PR_15_Y   4313 non-null   int32 \n",
      " 48  PR_16_N   4313 non-null   int32 \n",
      " 49  PR_16_Y   4313 non-null   int32 \n",
      " 50  PR_17_N   4313 non-null   int32 \n",
      " 51  PR_17_Y   4313 non-null   int32 \n",
      " 52  PR_18_N   4313 non-null   int32 \n",
      " 53  PR_18_Y   4313 non-null   int32 \n",
      " 54  PR_19_N   4313 non-null   int32 \n",
      " 55  PR_19_Y   4313 non-null   int32 \n",
      " 56  PR_20_N   4313 non-null   int32 \n",
      " 57  PR_20_Y   4313 non-null   int32 \n",
      " 58  PR_21_N   4313 non-null   int32 \n",
      " 59  PR_21_Y   4313 non-null   int32 \n",
      " 60  PR_22_N   4313 non-null   int32 \n",
      " 61  PR_22_Y   4313 non-null   int32 \n",
      " 62  PR_23_N   4313 non-null   int32 \n",
      " 63  PR_23_Y   4313 non-null   int32 \n",
      " 64  PR_24_N   4313 non-null   int32 \n",
      " 65  PR_24_Y   4313 non-null   int32 \n",
      " 66  PR_25_N   4313 non-null   int32 \n",
      " 67  PR_25_Y   4313 non-null   int32 \n",
      " 68  SENAIP01  4313 non-null   int32 \n",
      " 69  SENDEM01  4313 non-null   int32 \n",
      " 70  SENDEM02  4313 non-null   int32 \n",
      " 71  SENLIB01  4313 non-null   int32 \n",
      " 72  SENREP01  4313 non-null   int32 \n",
      "dtypes: int32(72), object(1)\n",
      "memory usage: 1.2+ MB\n"
     ]
    }
   ],
   "source": [
    "for col in df.columns:\n",
    "    if df[col].dtype != 'object':\n",
    "        df[col] = df[col].astype('int32')\n",
    "df.info()"
   ]
  },
  {
   "cell_type": "code",
   "execution_count": 75,
   "id": "2ccbebec",
   "metadata": {},
   "outputs": [
    {
     "data": {
      "text/plain": [
       "5709853"
      ]
     },
     "execution_count": 75,
     "metadata": {},
     "output_type": "execute_result"
    }
   ],
   "source": [
    "# so we halve the memory usage, but our data is unaffected\n",
    "df.drop(columns=['srprec']).max().max()"
   ]
  },
  {
   "cell_type": "code",
   "execution_count": 76,
   "id": "782a4dbe",
   "metadata": {},
   "outputs": [
    {
     "name": "stdout",
     "output_type": "stream",
     "text": [
      "972397\n",
      "2175\n"
     ]
    }
   ],
   "source": [
    "# but that's not the case if we convert to int16 - beware!\n",
    "print(df['SENDEM01'].max())\n",
    "print(df['SENDEM01'].astype('int16').max())"
   ]
  },
  {
   "cell_type": "markdown",
   "id": "0dde49d1",
   "metadata": {},
   "source": [
    "Note that `pandas` can skip columns, skip rows, and force particular data types when reading in a `csv` file. Check out the options."
   ]
  },
  {
   "cell_type": "code",
   "execution_count": 77,
   "id": "f3af61b5",
   "metadata": {},
   "outputs": [
    {
     "name": "stdout",
     "output_type": "stream",
     "text": [
      "Help on function read_csv in module pandas.io.parsers:\n",
      "\n",
      "read_csv(filepath_or_buffer: Union[ForwardRef('PathLike[str]'), str, IO[~T], io.RawIOBase, io.BufferedIOBase, io.TextIOBase, _io.TextIOWrapper, mmap.mmap], sep=<object object at 0x7fdd28497630>, delimiter=None, header='infer', names=None, index_col=None, usecols=None, squeeze=False, prefix=None, mangle_dupe_cols=True, dtype=None, engine=None, converters=None, true_values=None, false_values=None, skipinitialspace=False, skiprows=None, skipfooter=0, nrows=None, na_values=None, keep_default_na=True, na_filter=True, verbose=False, skip_blank_lines=True, parse_dates=False, infer_datetime_format=False, keep_date_col=False, date_parser=None, dayfirst=False, cache_dates=True, iterator=False, chunksize=None, compression='infer', thousands=None, decimal: str = '.', lineterminator=None, quotechar='\"', quoting=0, doublequote=True, escapechar=None, comment=None, encoding=None, dialect=None, error_bad_lines=True, warn_bad_lines=True, delim_whitespace=False, low_memory=True, memory_map=False, float_precision=None, storage_options: Union[Dict[str, Any], NoneType] = None)\n",
      "    Read a comma-separated values (csv) file into DataFrame.\n",
      "    \n",
      "    Also supports optionally iterating or breaking of the file\n",
      "    into chunks.\n",
      "    \n",
      "    Additional help can be found in the online docs for\n",
      "    `IO Tools <https://pandas.pydata.org/pandas-docs/stable/user_guide/io.html>`_.\n",
      "    \n",
      "    Parameters\n",
      "    ----------\n",
      "    filepath_or_buffer : str, path object or file-like object\n",
      "        Any valid string path is acceptable. The string could be a URL. Valid\n",
      "        URL schemes include http, ftp, s3, gs, and file. For file URLs, a host is\n",
      "        expected. A local file could be: file://localhost/path/to/table.csv.\n",
      "    \n",
      "        If you want to pass in a path object, pandas accepts any ``os.PathLike``.\n",
      "    \n",
      "        By file-like object, we refer to objects with a ``read()`` method, such as\n",
      "        a file handle (e.g. via builtin ``open`` function) or ``StringIO``.\n",
      "    sep : str, default ','\n",
      "        Delimiter to use. If sep is None, the C engine cannot automatically detect\n",
      "        the separator, but the Python parsing engine can, meaning the latter will\n",
      "        be used and automatically detect the separator by Python's builtin sniffer\n",
      "        tool, ``csv.Sniffer``. In addition, separators longer than 1 character and\n",
      "        different from ``'\\s+'`` will be interpreted as regular expressions and\n",
      "        will also force the use of the Python parsing engine. Note that regex\n",
      "        delimiters are prone to ignoring quoted data. Regex example: ``'\\r\\t'``.\n",
      "    delimiter : str, default ``None``\n",
      "        Alias for sep.\n",
      "    header : int, list of int, default 'infer'\n",
      "        Row number(s) to use as the column names, and the start of the\n",
      "        data.  Default behavior is to infer the column names: if no names\n",
      "        are passed the behavior is identical to ``header=0`` and column\n",
      "        names are inferred from the first line of the file, if column\n",
      "        names are passed explicitly then the behavior is identical to\n",
      "        ``header=None``. Explicitly pass ``header=0`` to be able to\n",
      "        replace existing names. The header can be a list of integers that\n",
      "        specify row locations for a multi-index on the columns\n",
      "        e.g. [0,1,3]. Intervening rows that are not specified will be\n",
      "        skipped (e.g. 2 in this example is skipped). Note that this\n",
      "        parameter ignores commented lines and empty lines if\n",
      "        ``skip_blank_lines=True``, so ``header=0`` denotes the first line of\n",
      "        data rather than the first line of the file.\n",
      "    names : array-like, optional\n",
      "        List of column names to use. If the file contains a header row,\n",
      "        then you should explicitly pass ``header=0`` to override the column names.\n",
      "        Duplicates in this list are not allowed.\n",
      "    index_col : int, str, sequence of int / str, or False, default ``None``\n",
      "      Column(s) to use as the row labels of the ``DataFrame``, either given as\n",
      "      string name or column index. If a sequence of int / str is given, a\n",
      "      MultiIndex is used.\n",
      "    \n",
      "      Note: ``index_col=False`` can be used to force pandas to *not* use the first\n",
      "      column as the index, e.g. when you have a malformed file with delimiters at\n",
      "      the end of each line.\n",
      "    usecols : list-like or callable, optional\n",
      "        Return a subset of the columns. If list-like, all elements must either\n",
      "        be positional (i.e. integer indices into the document columns) or strings\n",
      "        that correspond to column names provided either by the user in `names` or\n",
      "        inferred from the document header row(s). For example, a valid list-like\n",
      "        `usecols` parameter would be ``[0, 1, 2]`` or ``['foo', 'bar', 'baz']``.\n",
      "        Element order is ignored, so ``usecols=[0, 1]`` is the same as ``[1, 0]``.\n",
      "        To instantiate a DataFrame from ``data`` with element order preserved use\n",
      "        ``pd.read_csv(data, usecols=['foo', 'bar'])[['foo', 'bar']]`` for columns\n",
      "        in ``['foo', 'bar']`` order or\n",
      "        ``pd.read_csv(data, usecols=['foo', 'bar'])[['bar', 'foo']]``\n",
      "        for ``['bar', 'foo']`` order.\n",
      "    \n",
      "        If callable, the callable function will be evaluated against the column\n",
      "        names, returning names where the callable function evaluates to True. An\n",
      "        example of a valid callable argument would be ``lambda x: x.upper() in\n",
      "        ['AAA', 'BBB', 'DDD']``. Using this parameter results in much faster\n",
      "        parsing time and lower memory usage.\n",
      "    squeeze : bool, default False\n",
      "        If the parsed data only contains one column then return a Series.\n",
      "    prefix : str, optional\n",
      "        Prefix to add to column numbers when no header, e.g. 'X' for X0, X1, ...\n",
      "    mangle_dupe_cols : bool, default True\n",
      "        Duplicate columns will be specified as 'X', 'X.1', ...'X.N', rather than\n",
      "        'X'...'X'. Passing in False will cause data to be overwritten if there\n",
      "        are duplicate names in the columns.\n",
      "    dtype : Type name or dict of column -> type, optional\n",
      "        Data type for data or columns. E.g. {'a': np.float64, 'b': np.int32,\n",
      "        'c': 'Int64'}\n",
      "        Use `str` or `object` together with suitable `na_values` settings\n",
      "        to preserve and not interpret dtype.\n",
      "        If converters are specified, they will be applied INSTEAD\n",
      "        of dtype conversion.\n",
      "    engine : {'c', 'python'}, optional\n",
      "        Parser engine to use. The C engine is faster while the python engine is\n",
      "        currently more feature-complete.\n",
      "    converters : dict, optional\n",
      "        Dict of functions for converting values in certain columns. Keys can either\n",
      "        be integers or column labels.\n",
      "    true_values : list, optional\n",
      "        Values to consider as True.\n",
      "    false_values : list, optional\n",
      "        Values to consider as False.\n",
      "    skipinitialspace : bool, default False\n",
      "        Skip spaces after delimiter.\n",
      "    skiprows : list-like, int or callable, optional\n",
      "        Line numbers to skip (0-indexed) or number of lines to skip (int)\n",
      "        at the start of the file.\n",
      "    \n",
      "        If callable, the callable function will be evaluated against the row\n",
      "        indices, returning True if the row should be skipped and False otherwise.\n",
      "        An example of a valid callable argument would be ``lambda x: x in [0, 2]``.\n",
      "    skipfooter : int, default 0\n",
      "        Number of lines at bottom of file to skip (Unsupported with engine='c').\n",
      "    nrows : int, optional\n",
      "        Number of rows of file to read. Useful for reading pieces of large files.\n",
      "    na_values : scalar, str, list-like, or dict, optional\n",
      "        Additional strings to recognize as NA/NaN. If dict passed, specific\n",
      "        per-column NA values.  By default the following values are interpreted as\n",
      "        NaN: '', '#N/A', '#N/A N/A', '#NA', '-1.#IND', '-1.#QNAN', '-NaN', '-nan',\n",
      "        '1.#IND', '1.#QNAN', '<NA>', 'N/A', 'NA', 'NULL', 'NaN', 'n/a',\n",
      "        'nan', 'null'.\n",
      "    keep_default_na : bool, default True\n",
      "        Whether or not to include the default NaN values when parsing the data.\n",
      "        Depending on whether `na_values` is passed in, the behavior is as follows:\n",
      "    \n",
      "        * If `keep_default_na` is True, and `na_values` are specified, `na_values`\n",
      "          is appended to the default NaN values used for parsing.\n",
      "        * If `keep_default_na` is True, and `na_values` are not specified, only\n",
      "          the default NaN values are used for parsing.\n",
      "        * If `keep_default_na` is False, and `na_values` are specified, only\n",
      "          the NaN values specified `na_values` are used for parsing.\n",
      "        * If `keep_default_na` is False, and `na_values` are not specified, no\n",
      "          strings will be parsed as NaN.\n",
      "    \n",
      "        Note that if `na_filter` is passed in as False, the `keep_default_na` and\n",
      "        `na_values` parameters will be ignored.\n",
      "    na_filter : bool, default True\n",
      "        Detect missing value markers (empty strings and the value of na_values). In\n",
      "        data without any NAs, passing na_filter=False can improve the performance\n",
      "        of reading a large file.\n",
      "    verbose : bool, default False\n",
      "        Indicate number of NA values placed in non-numeric columns.\n",
      "    skip_blank_lines : bool, default True\n",
      "        If True, skip over blank lines rather than interpreting as NaN values.\n",
      "    parse_dates : bool or list of int or names or list of lists or dict, default False\n",
      "        The behavior is as follows:\n",
      "    \n",
      "        * boolean. If True -> try parsing the index.\n",
      "        * list of int or names. e.g. If [1, 2, 3] -> try parsing columns 1, 2, 3\n",
      "          each as a separate date column.\n",
      "        * list of lists. e.g.  If [[1, 3]] -> combine columns 1 and 3 and parse as\n",
      "          a single date column.\n",
      "        * dict, e.g. {'foo' : [1, 3]} -> parse columns 1, 3 as date and call\n",
      "          result 'foo'\n",
      "    \n",
      "        If a column or index cannot be represented as an array of datetimes,\n",
      "        say because of an unparsable value or a mixture of timezones, the column\n",
      "        or index will be returned unaltered as an object data type. For\n",
      "        non-standard datetime parsing, use ``pd.to_datetime`` after\n",
      "        ``pd.read_csv``. To parse an index or column with a mixture of timezones,\n",
      "        specify ``date_parser`` to be a partially-applied\n",
      "        :func:`pandas.to_datetime` with ``utc=True``. See\n",
      "        :ref:`io.csv.mixed_timezones` for more.\n",
      "    \n",
      "        Note: A fast-path exists for iso8601-formatted dates.\n",
      "    infer_datetime_format : bool, default False\n",
      "        If True and `parse_dates` is enabled, pandas will attempt to infer the\n",
      "        format of the datetime strings in the columns, and if it can be inferred,\n",
      "        switch to a faster method of parsing them. In some cases this can increase\n",
      "        the parsing speed by 5-10x.\n",
      "    keep_date_col : bool, default False\n",
      "        If True and `parse_dates` specifies combining multiple columns then\n",
      "        keep the original columns.\n",
      "    date_parser : function, optional\n",
      "        Function to use for converting a sequence of string columns to an array of\n",
      "        datetime instances. The default uses ``dateutil.parser.parser`` to do the\n",
      "        conversion. Pandas will try to call `date_parser` in three different ways,\n",
      "        advancing to the next if an exception occurs: 1) Pass one or more arrays\n",
      "        (as defined by `parse_dates`) as arguments; 2) concatenate (row-wise) the\n",
      "        string values from the columns defined by `parse_dates` into a single array\n",
      "        and pass that; and 3) call `date_parser` once for each row using one or\n",
      "        more strings (corresponding to the columns defined by `parse_dates`) as\n",
      "        arguments.\n",
      "    dayfirst : bool, default False\n",
      "        DD/MM format dates, international and European format.\n",
      "    cache_dates : bool, default True\n",
      "        If True, use a cache of unique, converted dates to apply the datetime\n",
      "        conversion. May produce significant speed-up when parsing duplicate\n",
      "        date strings, especially ones with timezone offsets.\n",
      "    \n",
      "        .. versionadded:: 0.25.0\n",
      "    iterator : bool, default False\n",
      "        Return TextFileReader object for iteration or getting chunks with\n",
      "        ``get_chunk()``.\n",
      "    \n",
      "        .. versionchanged:: 1.2\n",
      "    \n",
      "           ``TextFileReader`` is a context manager.\n",
      "    chunksize : int, optional\n",
      "        Return TextFileReader object for iteration.\n",
      "        See the `IO Tools docs\n",
      "        <https://pandas.pydata.org/pandas-docs/stable/io.html#io-chunking>`_\n",
      "        for more information on ``iterator`` and ``chunksize``.\n",
      "    \n",
      "        .. versionchanged:: 1.2\n",
      "    \n",
      "           ``TextFileReader`` is a context manager.\n",
      "    compression : {'infer', 'gzip', 'bz2', 'zip', 'xz', None}, default 'infer'\n",
      "        For on-the-fly decompression of on-disk data. If 'infer' and\n",
      "        `filepath_or_buffer` is path-like, then detect compression from the\n",
      "        following extensions: '.gz', '.bz2', '.zip', or '.xz' (otherwise no\n",
      "        decompression). If using 'zip', the ZIP file must contain only one data\n",
      "        file to be read in. Set to None for no decompression.\n",
      "    thousands : str, optional\n",
      "        Thousands separator.\n",
      "    decimal : str, default '.'\n",
      "        Character to recognize as decimal point (e.g. use ',' for European data).\n",
      "    lineterminator : str (length 1), optional\n",
      "        Character to break file into lines. Only valid with C parser.\n",
      "    quotechar : str (length 1), optional\n",
      "        The character used to denote the start and end of a quoted item. Quoted\n",
      "        items can include the delimiter and it will be ignored.\n",
      "    quoting : int or csv.QUOTE_* instance, default 0\n",
      "        Control field quoting behavior per ``csv.QUOTE_*`` constants. Use one of\n",
      "        QUOTE_MINIMAL (0), QUOTE_ALL (1), QUOTE_NONNUMERIC (2) or QUOTE_NONE (3).\n",
      "    doublequote : bool, default ``True``\n",
      "       When quotechar is specified and quoting is not ``QUOTE_NONE``, indicate\n",
      "       whether or not to interpret two consecutive quotechar elements INSIDE a\n",
      "       field as a single ``quotechar`` element.\n",
      "    escapechar : str (length 1), optional\n",
      "        One-character string used to escape other characters.\n",
      "    comment : str, optional\n",
      "        Indicates remainder of line should not be parsed. If found at the beginning\n",
      "        of a line, the line will be ignored altogether. This parameter must be a\n",
      "        single character. Like empty lines (as long as ``skip_blank_lines=True``),\n",
      "        fully commented lines are ignored by the parameter `header` but not by\n",
      "        `skiprows`. For example, if ``comment='#'``, parsing\n",
      "        ``#empty\\na,b,c\\n1,2,3`` with ``header=0`` will result in 'a,b,c' being\n",
      "        treated as the header.\n",
      "    encoding : str, optional\n",
      "        Encoding to use for UTF when reading/writing (ex. 'utf-8'). `List of Python\n",
      "        standard encodings\n",
      "        <https://docs.python.org/3/library/codecs.html#standard-encodings>`_ .\n",
      "        .. versionchanged:: 1.2\n",
      "    \n",
      "           When ``encoding`` is ``None``, ``errors=\"replace\"`` is passed to\n",
      "           ``open()``. Otherwise, ``errors=\"strict\"`` is passed to ``open()``.\n",
      "           This behavior was previously only the case for ``engine=\"python\"``.\n",
      "    dialect : str or csv.Dialect, optional\n",
      "        If provided, this parameter will override values (default or not) for the\n",
      "        following parameters: `delimiter`, `doublequote`, `escapechar`,\n",
      "        `skipinitialspace`, `quotechar`, and `quoting`. If it is necessary to\n",
      "        override values, a ParserWarning will be issued. See csv.Dialect\n",
      "        documentation for more details.\n",
      "    error_bad_lines : bool, default True\n",
      "        Lines with too many fields (e.g. a csv line with too many commas) will by\n",
      "        default cause an exception to be raised, and no DataFrame will be returned.\n",
      "        If False, then these \"bad lines\" will dropped from the DataFrame that is\n",
      "        returned.\n",
      "    warn_bad_lines : bool, default True\n",
      "        If error_bad_lines is False, and warn_bad_lines is True, a warning for each\n",
      "        \"bad line\" will be output.\n",
      "    delim_whitespace : bool, default False\n",
      "        Specifies whether or not whitespace (e.g. ``' '`` or ``'    '``) will be\n",
      "        used as the sep. Equivalent to setting ``sep='\\s+'``. If this option\n",
      "        is set to True, nothing should be passed in for the ``delimiter``\n",
      "        parameter.\n",
      "    low_memory : bool, default True\n",
      "        Internally process the file in chunks, resulting in lower memory use\n",
      "        while parsing, but possibly mixed type inference.  To ensure no mixed\n",
      "        types either set False, or specify the type with the `dtype` parameter.\n",
      "        Note that the entire file is read into a single DataFrame regardless,\n",
      "        use the `chunksize` or `iterator` parameter to return the data in chunks.\n",
      "        (Only valid with C parser).\n",
      "    memory_map : bool, default False\n",
      "        If a filepath is provided for `filepath_or_buffer`, map the file object\n",
      "        directly onto memory and access the data directly from there. Using this\n",
      "        option can improve performance because there is no longer any I/O overhead.\n",
      "    float_precision : str, optional\n",
      "        Specifies which converter the C engine should use for floating-point\n",
      "        values. The options are ``None`` or 'high' for the ordinary converter,\n",
      "        'legacy' for the original lower precision pandas converter, and\n",
      "        'round_trip' for the round-trip converter.\n",
      "    \n",
      "        .. versionchanged:: 1.2\n",
      "    \n",
      "    storage_options : dict, optional\n",
      "        Extra options that make sense for a particular storage connection, e.g.\n",
      "        host, port, username, password, etc., if using a URL that will\n",
      "        be parsed by ``fsspec``, e.g., starting \"s3://\", \"gcs://\". An error\n",
      "        will be raised if providing this argument with a non-fsspec URL.\n",
      "        See the fsspec and backend storage implementation docs for the set of\n",
      "        allowed keys and values.\n",
      "    \n",
      "        .. versionadded:: 1.2\n",
      "    \n",
      "    Returns\n",
      "    -------\n",
      "    DataFrame or TextParser\n",
      "        A comma-separated values (csv) file is returned as two-dimensional\n",
      "        data structure with labeled axes.\n",
      "    \n",
      "    See Also\n",
      "    --------\n",
      "    DataFrame.to_csv : Write DataFrame to a comma-separated values (csv) file.\n",
      "    read_csv : Read a comma-separated values (csv) file into DataFrame.\n",
      "    read_fwf : Read a table of fixed-width formatted lines into DataFrame.\n",
      "    \n",
      "    Examples\n",
      "    --------\n",
      "    >>> pd.read_csv('data.csv')  # doctest: +SKIP\n",
      "\n"
     ]
    }
   ],
   "source": [
    "help(pd.read_csv)"
   ]
  },
  {
   "cell_type": "markdown",
   "id": "f6a573d5",
   "metadata": {},
   "source": [
    "*Sampling* is often useful because there are diminishing returns (in terms of predictive power) to the size of your dataset. In statistical terms, remember that your standard errors go down by $1/\\sqrt{N}$, not by $1/N$.\n",
    "\n",
    "So if you have a million observations, you *might* get similar results through using a sample of half that size. This is likely to be the case for statistical models (e.g. logistic regression). It might not hold for machine learning models which are more flexible in the way that they consider interactions.\n",
    "\n",
    "Let's recreate the ADU prediction model that we saw in the classification notebook a couple of weeks ago.\n",
    "\n",
    "We'll start with the logistic regression."
   ]
  },
  {
   "cell_type": "code",
   "execution_count": 83,
   "id": "3cefb6a8",
   "metadata": {},
   "outputs": [
    {
     "name": "stdout",
     "output_type": "stream",
     "text": [
      "[[-5.93595020e-04 -2.28693959e-07 -3.39366228e-08  6.68044151e-09\n",
      "  -1.46302742e-04  1.01760215e-07 -3.22394618e-08 -6.22372695e-04\n",
      "  -6.22198696e-04 -1.07671188e-05  3.75717808e-05 -9.90456302e-08]]\n"
     ]
    },
    {
     "data": {
      "image/png": "[encoded data removed]",
      "text/plain": [
       "<Figure size 432x288 with 2 Axes>"
      ]
     },
     "metadata": {
      "needs_background": "light"
     },
     "output_type": "display_data"
    }
   ],
   "source": [
    "# all this code is identical to what we had before\n",
    "\n",
    "# read in and join parcels and permits\n",
    "path = '../weeks7-8/' # you might need to adjust the path\n",
    "permits = pd.read_csv(path+'ADU_permits.csv')  # this file should be in your GitHub folder\n",
    "parcels = pd.read_csv(path+'parcels.csv')\n",
    "permits.dropna(subset=['Assessor Book', 'Assessor Page','Assessor Parcel'], inplace=True)\n",
    "permits = permits[permits['Assessor Parcel']!='***']\n",
    "permits['APN'] = (permits['Assessor Book'].astype(int).astype(str).str.zfill(4) + '-' \n",
    "                   + permits['Assessor Page'].astype(int).astype(str).str.zfill(3) + '-'\n",
    "                   + permits['Assessor Parcel'].astype(int).astype(str).str.zfill(3))\n",
    "permits = permits.groupby('APN').first()\n",
    "parcels = parcels.groupby('APN').first()\n",
    "joinedDf = parcels.join(permits, how='left')\n",
    "\n",
    "# add dependent variable and dummies\n",
    "joinedDf['hasADU'] = joinedDf['# of Accessory Dwelling Units'].apply(lambda x: 0 if pd.isnull(x) else 1)\n",
    "dummies1 = pd.get_dummies(joinedDf.UseType, prefix='usetype_')  # creates a dataframe of dummies\n",
    "dummies2 = pd.get_dummies(joinedDf.UseDescription, prefix='usedesc_')\n",
    "joinedDf = joinedDf.join(dummies1).join(dummies2) \n",
    "\n",
    "# split the data and fit the model\n",
    "from sklearn.model_selection import train_test_split\n",
    "from sklearn.ensemble import RandomForestClassifier\n",
    "from sklearn.linear_model import LogisticRegression\n",
    "from sklearn.metrics import plot_confusion_matrix\n",
    "\n",
    "xvars = ['YearBuilt1', 'Units1', 'Bedrooms1', 'Bathrooms1', 'SQFTmain1', 'Roll_LandValue', \n",
    "             'Roll_ImpValue', 'Roll_LandBaseYear', 'Roll_ImpBaseYear', 'CENTER_LAT', 'CENTER_LON', 'usedesc__Single']\n",
    "yvar = 'hasADU'\n",
    "df_to_fit = joinedDf[xvars+[yvar]].dropna()\n",
    "X_train, X_test, y_train, y_test = train_test_split(df_to_fit[xvars], df_to_fit[yvar], test_size = 0.25, random_state = 1)\n",
    "\n",
    "lr = LogisticRegression()\n",
    "lr.fit(X_train[xvars], y_train)\n",
    "plot_confusion_matrix(lr, X_test[xvars], y_test)\n",
    "\n",
    "# print the logistic regression coefficients\n",
    "print(lr.coef_)"
   ]
  },
  {
   "cell_type": "markdown",
   "id": "ac681cdd",
   "metadata": {},
   "source": [
    "What if we just estimate this model on half the data? We can use the `sample` function in `pandas`.\n",
    "\n",
    "The coefficients are pretty much identical. And the numbers in the confusion matrix are roughly halved (because we have half the sample)."
   ]
  },
  {
   "cell_type": "code",
   "execution_count": 84,
   "id": "53fd98cb",
   "metadata": {},
   "outputs": [
    {
     "name": "stdout",
     "output_type": "stream",
     "text": [
      "[[-6.01193660e-04 -2.28053185e-07  1.54670571e-09  2.30747813e-08\n",
      "  -1.31837624e-04  8.83746515e-08  1.18550935e-08 -6.28405382e-04\n",
      "  -6.28241903e-04 -1.08654450e-05  3.79088991e-05 -1.07124978e-07]]\n"
     ]
    },
    {
     "data": {
      "image/png": "[encoded data removed]",
      "text/plain": [
       "<Figure size 432x288 with 2 Axes>"
      ]
     },
     "metadata": {
      "needs_background": "light"
     },
     "output_type": "display_data"
    }
   ],
   "source": [
    "df_to_fit = joinedDf[xvars+[yvar]].dropna()\n",
    "df_to_fit = df_to_fit.sample(frac=0.5) # take 50% sample\n",
    "X_train, X_test, y_train, y_test = train_test_split(df_to_fit[xvars], df_to_fit[yvar], test_size = 0.25, random_state = 1)\n",
    "\n",
    "lr = LogisticRegression()\n",
    "lr.fit(X_train[xvars], y_train)\n",
    "plot_confusion_matrix(lr, X_test[xvars], y_test)\n",
    "print(lr.coef_)"
   ]
  },
  {
   "cell_type": "markdown",
   "id": "707b6366",
   "metadata": {},
   "source": [
    "Takeaway: we get the same output with half the data.\n",
    "\n",
    "What about the random forests model? Let's compare the full dataset to a 50% sample."
   ]
  },
  {
   "cell_type": "code",
   "execution_count": 86,
   "id": "edd9ad7b",
   "metadata": {},
   "outputs": [
    {
     "data": {
      "image/png": "[encoded data removed]",
      "text/plain": [
       "<Figure size 432x288 with 2 Axes>"
      ]
     },
     "metadata": {
      "needs_background": "light"
     },
     "output_type": "display_data"
    },
    {
     "data": {
      "image/png": "[encoded data removed]",
      "text/plain": [
       "<Figure size 432x288 with 2 Axes>"
      ]
     },
     "metadata": {
      "needs_background": "light"
     },
     "output_type": "display_data"
    }
   ],
   "source": [
    "xvars = (dummies1.columns.tolist() + dummies2.columns.tolist() + \n",
    "            ['YearBuilt1', 'Units1', 'Bedrooms1', 'Bathrooms1', 'SQFTmain1', 'Roll_LandValue', \n",
    "             'Roll_ImpValue', 'Roll_LandBaseYear', 'Roll_ImpBaseYear', 'CENTER_LAT', 'CENTER_LON' ])\n",
    "yvar = 'hasADU'\n",
    "\n",
    "df_to_fit = joinedDf[xvars+[yvar]].dropna()\n",
    "\n",
    "for i in range(2): # do two iterations\n",
    "    X_train, X_test, y_train, y_test = train_test_split(df_to_fit[xvars], df_to_fit[yvar], test_size = 0.25, random_state = 1)\n",
    "    rf = RandomForestClassifier(n_estimators = 10, random_state = 1)  # 10 estimators to save time\n",
    "    rf.fit(X_train, y_train)\n",
    "    y_pred = rf.predict(X_test)\n",
    "    plot_confusion_matrix(rf, X_test, y_test)\n",
    "\n",
    "    # before starting the second loop, do a 50% sample\n",
    "    df_to_fit = df_to_fit.sample(frac=0.5) # take 50% sample\n",
    "    "
   ]
  },
  {
   "cell_type": "markdown",
   "id": "fdf13b9e",
   "metadata": {},
   "source": [
    "This isn't so bad. (Remember all of the entries in the confusion matrix should have half the observations, because we have half the sample size.)\n",
    "\n",
    "However, a better way forward here might be to:\n",
    "1. Estimate the model on a sample of the data\n",
    "2. Look at the feature importances\n",
    "3. Run the model on the full data, but excluding some of the variables that don't increase predictive performance (i.e., low importance)"
   ]
  },
  {
   "cell_type": "markdown",
   "id": "2ca8e1b3",
   "metadata": {},
   "source": [
    "*Tiling* is a related strategy, particularly useful for geographic data. For example, if you want to calculate nearest neighbors, you could loop over each 1km square grid cell (or census tract, or county)."
   ]
  },
  {
   "cell_type": "markdown",
   "id": "bbd8f2b5",
   "metadata": {},
   "source": [
    "## 2. Parallel processing\n",
    "* Databases\n",
    "* Using Python multiprocessing\n",
    "* MapReduce\n",
    "\n",
    "Even basic laptops usually come with multiple cores. Some functions, like the `scikit-learn` machine learning models, have a parameter that you can set to use more than one core (e.g. `n_jobs=-1` in `RandomForestClassifier`). \n",
    "\n",
    "Postgres and other databases can also make use of multiple cores to do CPU-intensive operations such as spatial joins. They also write intermediate results to disk so help with memory too (a SSD helps).\n",
    "\n",
    "In other cases, you'll need to do the parallelization yourself. Python helps through the `multiprocessing` library. The key is to set up discrete *functions* that can then be run in parallel on different subsets of the data.\n",
    "\n",
    "Let's recreate the example we used in the Data wrangling part of the course, to calculate the distance from every census tract to the closest food pantry.\n"
   ]
  },
  {
   "cell_type": "code",
   "execution_count": 87,
   "id": "29c658b3",
   "metadata": {},
   "outputs": [
    {
     "name": "stderr",
     "output_type": "stream",
     "text": [
      "/Users/adammb/anaconda3/envs/urbandatascience/lib/python3.8/site-packages/pyproj/crs/crs.py:53: FutureWarning: '+init=<authority>:<code>' syntax is deprecated. '<authority>:<code>' is the preferred initialization method. When making the change, be mindful of axis order changes: https://pyproj4.github.io/pyproj/stable/gotchas.html#axis-order-changes-in-proj-6\n",
      "  return _prepare_from_string(\" \".join(pjargs))\n"
     ]
    },
    {
     "name": "stdout",
     "output_type": "stream",
     "text": [
      "Matched: Los Angeles, CA to Los Angeles city within layer Incorporated Places\n"
     ]
    }
   ],
   "source": [
    "from cenpy import products\n",
    "import requests\n",
    "import json\n",
    "import geopandas as gpd\n",
    "import pandas as pd\n",
    "\n",
    "\n",
    "# get the census tract boundaries for LA\n",
    "incomeDf = products.ACS(2017).from_place('Los Angeles, CA', level='tract')\n",
    "\n",
    "# get the food pantries\n",
    "r  = requests.get('https://controllerdata.lacity.org/resource/uztv-ve9b.json')\n",
    "pantryDf = pd.DataFrame(json.loads(r.content))\n",
    "pantrygdf = gpd.GeoDataFrame(\n",
    "    pantryDf, geometry=gpd.points_from_xy(pantryDf.longitude, pantryDf.latitude, crs='EPSG:4326'))\n",
    "\n",
    "# project both to state plane\n",
    "pantrygdf.to_crs('EPSG:3497', inplace=True)\n",
    "incomeDf.to_crs('EPSG:3497', inplace=True)\n",
    "\n",
    "# let's slow things down by making multiple copies of the pantrygdf\n",
    "pantrygdf = pd.concat([pantrygdf for i in range(10)]).reset_index()"
   ]
  },
  {
   "cell_type": "code",
   "execution_count": 90,
   "id": "03443b2f",
   "metadata": {},
   "outputs": [
    {
     "name": "stdout",
     "output_type": "stream",
     "text": [
      "3.25 s ± 45.7 ms per loop (mean ± std. dev. of 7 runs, 1 loop each)\n"
     ]
    }
   ],
   "source": [
    "# this is the function that we had before to return the distance and id of the closest pantry to each tract\n",
    "def get_closest_tract(geom):\n",
    "    tract = geom.centroid \n",
    "    distances = pantrygdf.distance(tract)\n",
    "    closest_pantry, min_dist = distances.idxmin(), distances.min()\n",
    "    return pd.Series([closest_pantry, min_dist]) # the Series notation is because we are returning more than one column\n",
    "\n",
    "%timeit incomeDf[['closest_pantry','dist_to_closest_pantry']] = incomeDf.geometry.apply(get_closest_tract)"
   ]
  },
  {
   "cell_type": "markdown",
   "id": "8100c4d5",
   "metadata": {},
   "source": [
    "That was pretty fast, but again, think of a situation when we are doing this for (say) all census tracts and all grocery stores in the country.\n",
    "\n",
    "Let's see if parallel processing can work. Don't worry about the syntax - there are lots of examples online if and when you need to use this. But I want you to understand it conceptually."
   ]
  },
  {
   "cell_type": "code",
   "execution_count": 91,
   "id": "d37702de",
   "metadata": {},
   "outputs": [
    {
     "name": "stdout",
     "output_type": "stream",
     "text": [
      "Completed in 1.80 seconds\n"
     ]
    }
   ],
   "source": [
    "import time\n",
    "import multiprocessing as mp\n",
    "from functools import partial\n",
    "\n",
    "# multiple lines, so we can't use %timeit\n",
    "starttime = time.time()\n",
    "\n",
    "# a complication of multiprocessing in Jupyter Notebooks is that you have to import the function from disk\n",
    "# you can't define it in a cell\n",
    "from get_closest_tract import *\n",
    "\n",
    "# use 4 cores\n",
    "with mp.Pool(processes=4) as pool:\n",
    "    func = partial(get_closest_tract, pantrygdf)\n",
    "    results = pool.map(func, incomeDf.geometry)\n",
    "    \n",
    "incomeDf[['closest_pantry','dist_to_closest_pantry']] = pd.concat(results, axis=1).T\n",
    "print('Completed in {:.2f} seconds'.format(time.time() - starttime))"
   ]
  },
  {
   "cell_type": "markdown",
   "id": "b550d264",
   "metadata": {},
   "source": [
    "Quite a nice speed up. Note that there is some overhead, so using 4 cores only means a ~2x speedup in this case.\n",
    "\n",
    "What's happening? Each row of `incomeDf` is being passed to a pool. As soon as one of the 4 cores is free, it accepts the next job from the pool. Then we combine all the separate results back into a dataframe.\n",
    "\n",
    "Multiprocessing works when *none of the jobs are dependent on each other*. It's hard to pass information between different jobs in the pool."
   ]
  },
  {
   "cell_type": "markdown",
   "id": "f43ca61f",
   "metadata": {},
   "source": [
    "*MapReduce* is a related concept to parallel processing. [See the details of the algorithm here.](https://en.wikipedia.org/wiki/MapReduce) In short, there is a *map* stage (filtering and sorting), and a *reduce* stage (reducing the input data to something smaller). Each of the mapper and reducer nodes can run in parallel.\n",
    "\n",
    "A canonical example is word counting.\n",
    "\n",
    "![mapreduce](https://upload.wikimedia.org/wikipedia/commons/0/03/WordCountFlow.JPG)\n",
    "\n",
    "Map Reduce is normally done in the cloud (there are specialist tools like Hadoop), but you could do it on a local machine in Python as well. Conceptually, think about what are the discrete, independent chunks that you can split your tasks into."
   ]
  },
  {
   "cell_type": "markdown",
   "id": "67974028",
   "metadata": {},
   "source": [
    "## 3. Outgrowing your local machine\n",
    "Almost all of my data science work is run locally on my office computer. Currently, I have a 2018 Mac Mini, and my previous desktop was from 2008, so it's not like you need a lot of computing power to do most tasks. You might need a large external hard drive.\n",
    "\n",
    "Sometimes it takes a few days to a week, running in the background. Sometimes I have to parallelize or tile, or be judicious about data types. But for me, it's often more convenient than uploading to (and paying for) a cloud service.\n",
    "\n",
    "For some jobs, however, you will outgrow your laptop. We won't say much about other options in this course, but in general there are three options:\n",
    "* Beg, steal, borrow. Can you get access to a computer in the GIS lab to run over the weekend or holidays?\n",
    "* UCLA's Hoffman2 cluster. You can run pretty much any Python code as a \"batch job,\" meaning that your job will be queued until there are resources available for it to run. [See the details here.](https://www.hoffman2.idre.ucla.edu) \n",
    "* Cloud-based Python services like [DeepNote](https://deepnote.com/education) (basic plan free for educational users) or Python Anywhere. The amount of memory and compute power varies, but generally you pay for what you use.\n",
    "* More general cloud services like AWS, Google Cloud, Microsoft Azure, etc. These let you run Python and pretty much any other open-source tool, including databases.\n",
    "\n",
    "These options are changing all the time, so keep an eye out for new firms and services that are being offered."
   ]
  },
  {
   "cell_type": "markdown",
   "id": "cac96c47",
   "metadata": {},
   "source": [
    "<div class=\"alert alert-block alert-info\">\n",
    "<h3>Key Takeaways</h3>\n",
    "<ul>\n",
    "  <li>Start simple! Most \"big\" datasets can be handled on any laptop through judicious use of datatypes, profiling your code, and working on a chunk of your data at one time.</li>\n",
    "  <li>A database like PostgreSQL is the next logical step, particularly if you have intensive spatial analysis needs. You can run Postgres on most computers, and hook up an external hard drive for large datasets.</li>\n",
    "  <li>You will rarely need to do more than this, but the UCLA Hoffman2 cluster and cloud service providers are there if you need them.</li>\n",
    "</ul>\n",
    "<h3>And that's it, folks!</h3>\n",
    "</div>"
   ]
  },
  {
   "cell_type": "code",
   "execution_count": null,
   "id": "3eb71c11",
   "metadata": {},
   "outputs": [],
   "source": []
  }
 ],
 "metadata": {
  "kernelspec": {
   "display_name": "Python 3",
   "language": "python",
   "name": "python3"
  },
  "language_info": {
   "codemirror_mode": {
    "name": "ipython",
    "version": 3
   },
   "file_extension": ".py",
   "mimetype": "text/x-python",
   "name": "python",
   "nbconvert_exporter": "python",
   "pygments_lexer": "ipython3",
   "version": "3.8.8"
  }
 },
 "nbformat": 4,
 "nbformat_minor": 5
}
